{
 "cells": [
  {
   "cell_type": "code",
   "execution_count": 1,
   "metadata": {},
   "outputs": [],
   "source": [
    "import tensorflow as tf\n",
    "import numpy as np"
   ]
  },
  {
   "cell_type": "code",
   "execution_count": 3,
   "metadata": {},
   "outputs": [
    {
     "data": {
      "text/plain": [
       "[[[[1], [2], [3], [4], [5], [6], [7], [8], [9], [10]],\n",
       "  [[11], [12], [13], [14], [15], [16], [17], [18], [19], [20]],\n",
       "  [[21], [22], [23], [24], [25], [26], [27], [28], [29], [30]],\n",
       "  [[31], [32], [33], [34], [35], [36], [37], [38], [39], [40]],\n",
       "  [[41], [42], [43], [44], [45], [46], [47], [48], [49], [50]],\n",
       "  [[51], [52], [53], [54], [55], [56], [57], [58], [59], [60]],\n",
       "  [[61], [62], [63], [64], [65], [66], [67], [68], [69], [70]],\n",
       "  [[71], [72], [73], [74], [75], [76], [77], [78], [79], [80]],\n",
       "  [[81], [82], [83], [84], [85], [86], [87], [88], [89], [90]],\n",
       "  [[91], [92], [93], [94], [95], [96], [97], [98], [99], [100]]]]"
      ]
     },
     "execution_count": 3,
     "metadata": {},
     "output_type": "execute_result"
    }
   ],
   "source": [
    "n = 10\n",
    "images = [[[[x * n + y + 1] for y in range(n)] for x in range(n)]]\n",
    "images"
   ]
  },
  {
   "cell_type": "code",
   "execution_count": 6,
   "metadata": {},
   "outputs": [
    {
     "data": {
      "text/plain": [
       "<tf.Tensor: shape=(1, 2, 2, 9), dtype=int32, numpy=\n",
       "array([[[[ 1,  2,  3, 11, 12, 13, 21, 22, 23],\n",
       "         [ 6,  7,  8, 16, 17, 18, 26, 27, 28]],\n",
       "\n",
       "        [[51, 52, 53, 61, 62, 63, 71, 72, 73],\n",
       "         [56, 57, 58, 66, 67, 68, 76, 77, 78]]]], dtype=int32)>"
      ]
     },
     "execution_count": 6,
     "metadata": {},
     "output_type": "execute_result"
    }
   ],
   "source": [
    "# 1. 3x3 patches with stride length 5\n",
    "# 2. Same as above, but the rate is increased to 2\n",
    "tf.image.extract_patches(\n",
    "    images=images,\n",
    "    sizes=[1, 3, 3, 1],\n",
    "    strides=[1, 5, 5, 1],\n",
    "    rates=[1, 1, 1, 1],\n",
    "    padding='VALID'\n",
    ")"
   ]
  },
  {
   "cell_type": "code",
   "execution_count": null,
   "metadata": {},
   "outputs": [],
   "source": []
  }
 ],
 "metadata": {
  "interpreter": {
   "hash": "ace3e1ad7af0847684bd297f2968649b4d96ae2f627f328ee2eafd305163f7dc"
  },
  "kernelspec": {
   "display_name": "Python 3.8.12 64-bit ('rjs': conda)",
   "name": "python3"
  },
  "language_info": {
   "codemirror_mode": {
    "name": "ipython",
    "version": 3
   },
   "file_extension": ".py",
   "mimetype": "text/x-python",
   "name": "python",
   "nbconvert_exporter": "python",
   "pygments_lexer": "ipython3",
   "version": "3.8.12"
  },
  "orig_nbformat": 4
 },
 "nbformat": 4,
 "nbformat_minor": 2
}
